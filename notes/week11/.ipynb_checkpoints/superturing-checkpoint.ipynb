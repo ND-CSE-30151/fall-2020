{
 "cells": [
  {
   "cell_type": "markdown",
   "metadata": {},
   "source": [
    "# Super-Turing models of computation\n",
    "\n",
    "## Computing with real numbers\n",
    "\n",
    "## Quantum computing\n",
    "\n",
    "## Rotating black holes\n",
    "\n",
    "## Minds\n",
    "\n",
    "There aren't any notes for this topic save for one \"no\" argument that is technical. Turing called it \"the mathematical objection\" and it is usually known today as the Penrose-Lucas argument. This version is due to Penrose and comes from [an article criticizing him](http://www.ihmc.us/users/phayes/pub/lafortehayesford.pdf). \n",
    "\n",
    "Let $R$ be a decider Turing machine that detects _some_ cases of looping. That is, on input $\\langle M, w\\rangle$, if $R$ accepts, then $M$ loops on input $w$. But if $R$ rejects, it doesn't mean anything.\n",
    "\n",
    "Now we go through the usual diagonalization argument; the only difference is that it doesn't lead to a contradiction, but to a machine/input pair that is beyond $R$'s detection abilities. Assume an ordering $M_1, M_2, \\ldots$ on Turing machines and an ordering $w_1, w_2, \\ldots$ on strings. We can build a big table with the results of $R$ on all machines and inputs:\n",
    "\n",
    "| | $\\varepsilon$ | $\\mathtt{0}$ |$\\mathtt{1}$ | $\\mathtt{00}$ | $\\cdots$ |\n",
    "|-|-------------|------------|-------------|-------------|--------|\n",
    "|$M_1$| _don't know_ | _loops_ | _don't know_ | _loops_    |        |\n",
    "|$M_2$| _don't know_ | _loops_ | _loops_ | _don't know_    |        |\n",
    "|$M_3$| _loops_ | _don't know_ | _loops_ | _don't know_ |  |\n",
    "|$M_4$| _don't know_ | _don't know_ | _don't know_ | _loops_ |                |\n",
    "|$\\vdots$| | | | | | |\n",
    "\n",
    "We define $D$ to be the Turing machine that _does_ the opposite of the diagonal of this table. That is, on input $w$:\n",
    "\n",
    "1. Find $i$ such that $w = w_i$.\n",
    "2. Run $R$, the partial looping-detector, on $\\langle M_i, w_i\\rangle$.\n",
    "3. If $R$ detected an infinite loop, _accept_.\n",
    "4. Otherwise, go into an infinite loop.\n",
    "\n",
    "Now, there must be an $i$ such that $D = M_i$. We claim that $\\langle D, w_i\\rangle$ is an example of a looping machine/input pair that is beyond $R$'s detection abilities. Suppose that $R$, on input $\\langle D, w_i\\rangle$, detects looping. Then, in fact, $D$ does not loop, which is a contradiction. So $R$ must not detect looping. Then, in fact, $D$ does loop, but $R$ does not detect it.\n",
    "\n",
    "It's critical that you understand the argument thus far before moving on.\n",
    "\n",
    "Suppose that you are equivalent to a Turing machine. It should then be possible to construct a Turing machine $Y$ that accepts $\\langle M, w\\rangle$ in exactly those cases when you are able to detect that $M$ loops on input $w$.\n",
    "\n",
    "Then, by the above argument, there is a machine/input pair $\\langle D, w_i\\rangle$ that loops, but $Y$ rejects it.  By the definition of $Y$, you are not able to detect that $\\langle D, w_i\\rangle$ loops. But if you understood the above argument, then you know that $\\langle D, w_i\\rangle$ does loop. This is a contradiction! Therefore, you are not equivalent to a Turing machine.\n",
    "\n",
    "There are many possible responses to this argument -- what do you think?"
   ]
  }
 ],
 "metadata": {
  "kernelspec": {
   "display_name": "Python 3",
   "language": "python",
   "name": "python3"
  },
  "language_info": {
   "codemirror_mode": {
    "name": "ipython",
    "version": 3
   },
   "file_extension": ".py",
   "mimetype": "text/x-python",
   "name": "python",
   "nbconvert_exporter": "python",
   "pygments_lexer": "ipython3",
   "version": "3.8.1"
  }
 },
 "nbformat": 4,
 "nbformat_minor": 4
}
