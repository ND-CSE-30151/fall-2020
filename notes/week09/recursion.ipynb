{
 "cells": [
  {
   "cell_type": "markdown",
   "metadata": {},
   "source": [
    "### Recursion\n",
    "\n",
    "How do you implement recursion in a Turing machine? Here's how not to do it: We've occasionally made use of a convention where a TM $M$ has a step that says \"Simulate $M'$.\" This is a macro rather than a function: you would code this in the formal description by including the definition of $M'$ in the definition of $M$. So if $M$ tried to invoke itself, you would end up with an infinite formal description.\n",
    "\n",
    "We can do this in two ways. One way would be to implement a general function calling mechanism, with a call stack and so on, and then it would be no problem for a function to call itself.\n",
    "\n",
    "A cooler way is described in Section 6.1. Suppose that we adopted the following convention: Whenever we invoke $M'$ on input $w$, we always additionally provide it with the encoding of itself. That is, before invoking $M'$ on $w$, we replace $w$ with $\\langle M', w \\rangle$. Then, when $M'$ wants to invoke itself, it can use a universal TM and $\\langle M' \\rangle$ to do it. Infinity avoided.\n",
    "\n",
    "In Python, this would look like:"
   ]
  },
  {
   "cell_type": "code",
   "execution_count": 1,
   "metadata": {
    "collapsed": false
   },
   "outputs": [
    {
     "data": {
      "text/plain": [
       "120"
      ]
     },
     "execution_count": 1,
     "metadata": {},
     "output_type": "execute_result"
    }
   ],
   "source": [
    "def factorial1(recurse, n):\n",
    "    if n <= 1:\n",
    "        return 1\n",
    "    else:\n",
    "        return n * recurse(recurse, n-1)\n",
    "    \n",
    "factorial1(factorial1, 5)"
   ]
  },
  {
   "cell_type": "markdown",
   "metadata": {},
   "source": [
    "However, it's a nuisance for anyone who invokes $M'$ to bear the responsibility of providing it with $\\langle M' \\rangle$. So we can wrap $M'$ so that this happens automatically. As a first try, we could do:"
   ]
  },
  {
   "cell_type": "code",
   "execution_count": 2,
   "metadata": {
    "collapsed": false
   },
   "outputs": [
    {
     "data": {
      "text/plain": [
       "120"
      ]
     },
     "execution_count": 2,
     "metadata": {},
     "output_type": "execute_result"
    }
   ],
   "source": [
    "def b(m):\n",
    "    def r(w):\n",
    "        return m(m, w)\n",
    "    return r\n",
    "\n",
    "factorial2 = b(factorial1)\n",
    "\n",
    "factorial2(5)"
   ]
  },
  {
   "cell_type": "markdown",
   "metadata": {},
   "source": [
    "But this still requires $M'$ to provide its own recursive calls with an encoding of itself. We can fix that, too:"
   ]
  },
  {
   "cell_type": "code",
   "execution_count": 4,
   "metadata": {
    "collapsed": false
   },
   "outputs": [
    {
     "data": {
      "text/plain": [
       "120"
      ]
     },
     "execution_count": 4,
     "metadata": {},
     "output_type": "execute_result"
    }
   ],
   "source": [
    "def fixpoint(t):\n",
    "    \"\"\"Given a function t that takes two arguments, return a function r such that r(w) = t(r, w).\"\"\"\n",
    "    def bt(m, w):\n",
    "        r = b(m)\n",
    "        return t(r, w)\n",
    "    def r(w):\n",
    "        return bt(bt, w)\n",
    "    return r\n",
    "\n",
    "@fixpoint\n",
    "def factorial3(recurse, n):\n",
    "    if n <= 1:\n",
    "        return 1\n",
    "    else:\n",
    "        return n * recurse(n-1)\n",
    "    \n",
    "factorial3(5)"
   ]
  },
  {
   "cell_type": "markdown",
   "metadata": {},
   "source": [
    "This is closely related to the [Y combinator](https://en.wikipedia.org/wiki/Fixed-point_combinator) after which the famous startup incubator was named. The construction in the book does this with Turing machines. Here is the book's construction, presented (I think) in a cleaner way:\n",
    "\n",
    "Define a TM $B$ that, on input $\\langle M, w \\rangle$,\n",
    "1. Constructs a TM $R$ that, on input $w$,\n",
    "  1. Rewrites the tape to $\\langle M, w \\rangle$.\n",
    "  2. Runs $M$ on the resulting tape.\n",
    "2. Writes $\\langle R, w\\rangle$.\n",
    "\n",
    "If $T$ is a TM that takes input $\\langle R, w\\rangle$, then let $BT$ be the TM that runs $B$ followed by $T$. Construct a TM $R$ that, on input $w$:\n",
    "1. Rewrites the tape to $\\langle BT, w \\rangle$.\n",
    "2. Runs $BT$ on the resulting tape."
   ]
  },
  {
   "cell_type": "code",
   "execution_count": null,
   "metadata": {
    "collapsed": true
   },
   "outputs": [],
   "source": []
  }
 ],
 "metadata": {
  "kernelspec": {
   "display_name": "Python 2",
   "language": "python",
   "name": "python2"
  },
  "language_info": {
   "codemirror_mode": {
    "name": "ipython",
    "version": 2
   },
   "file_extension": ".py",
   "mimetype": "text/x-python",
   "name": "python",
   "nbconvert_exporter": "python",
   "pygments_lexer": "ipython2",
   "version": "2.7.10"
  }
 },
 "nbformat": 4,
 "nbformat_minor": 0
}
