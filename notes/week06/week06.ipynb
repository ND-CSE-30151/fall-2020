{
 "cells": [
  {
   "cell_type": "markdown",
   "metadata": {},
   "source": [
    "# Week 7: Non-context-free languages"
   ]
  },
  {
   "cell_type": "code",
   "execution_count": 1,
   "metadata": {},
   "outputs": [],
   "source": [
    "from tock import *"
   ]
  },
  {
   "cell_type": "markdown",
   "metadata": {},
   "source": [
    "## Tuesday\n",
    "\n",
    "Today we're going to talk about how to show that languages are not context-free. There are two canonical examples of non-context-free languages:\n",
    "\n",
    "\\begin{align*}\n",
    "B &= \\{ \\mathtt{a}^n \\mathtt{b}^n \\mathtt{c}^n \\mid n \\geq 0 \\} \\\\\n",
    "D &= \\{ ww \\mid w \\in \\{ \\mathtt{0}, \\mathtt{1} \\}^\\ast \\}.\n",
    "\\end{align*}\n",
    "\n",
    "<p class=\"alert alert-info\"><b>Read</b> Section 2.3.</p>"
   ]
  },
  {
   "cell_type": "markdown",
   "metadata": {},
   "source": [
    "### Another pumping lemma\n",
    "\n",
    "The pumping lemma for context-free languages is a little more complicated than the pumping lemma for regular languages (even though it actually predates it). \n",
    "\n",
    "The basic difference is that the pumping now causes _two_ pieces of the string to be repeated instead of just one. Also, whereas in the regular pumping lemma, the repeated piece had to be near the beginning of the string, in the context-free pumping lemma, the two pieces have to be near each other, but can occur anywhere in the string. Other than that, writing proofs using the context-free pumping lemma is the same as using the regular pumping lemma.\n",
    "\n",
    "As with the regular pumping lemma, we'll start by presenting the argument as a dialogue between Alice and Bill. But some of Alice's reasoning will be unexplained at first."
   ]
  },
  {
   "cell_type": "markdown",
   "metadata": {},
   "source": [
    "### As a dialogue\n",
    "\n",
    "Alice. The language $B=\\{\\mathtt{a}^n\\mathtt{b}^n\\mathtt{c}^n\\}$ is not context-free.\n",
    "\n",
    "Bill. Yes it is.\n",
    "\n",
    "Alice. Do you have a context-free grammar that generates it?\n",
    "\n",
    "Bill. Yes:"
   ]
  },
  {
   "cell_type": "code",
   "execution_count": 5,
   "metadata": {},
   "outputs": [
    {
     "data": {
      "text/html": [
       "nonterminals: {A,B,C}<br>\n",
       "start: A<br>\n",
       "A &rarr; a A<br>\n",
       "A &rarr; a B<br>\n",
       "B &rarr; b C<br>\n",
       "C &rarr; B c<br>\n",
       "C &rarr; c"
      ],
      "text/plain": [
       "<tock.grammars.Grammar at 0x1051809a0>"
      ]
     },
     "execution_count": 5,
     "metadata": {},
     "output_type": "execute_result"
    }
   ],
   "source": [
    "g = grammars.Grammar.from_lines([\n",
    "    'A -> a A',\n",
    "    'A -> a B',\n",
    "    'B -> b C',\n",
    "    'C -> B c',\n",
    "    'C -> c'\n",
    "])\n",
    "g"
   ]
  },
  {
   "cell_type": "markdown",
   "metadata": {},
   "source": [
    "Alice. How many nonterminal symbols does your grammar have?\n",
    "\n",
    "Bill. Let me count.."
   ]
  },
  {
   "cell_type": "code",
   "execution_count": 7,
   "metadata": {},
   "outputs": [
    {
     "data": {
      "text/plain": [
       "3"
      ]
     },
     "execution_count": 7,
     "metadata": {},
     "output_type": "execute_result"
    }
   ],
   "source": [
    "v = len(g.nonterminals)\n",
    "v"
   ]
  },
  {
   "cell_type": "markdown",
   "metadata": {},
   "source": [
    "Alice. What's the maximum length of any right-hand side?\n",
    "\n",
    "Bill. Let me see..."
   ]
  },
  {
   "cell_type": "code",
   "execution_count": 8,
   "metadata": {},
   "outputs": [
    {
     "data": {
      "text/plain": [
       "2"
      ]
     },
     "execution_count": 8,
     "metadata": {},
     "output_type": "execute_result"
    }
   ],
   "source": [
    "b = max(len(rhs) for lhs, rhs in g.rules)\n",
    "b"
   ]
  },
  {
   "cell_type": "markdown",
   "metadata": {},
   "source": [
    "Alice. Does your grammar generate this string?"
   ]
  },
  {
   "cell_type": "code",
   "execution_count": 16,
   "metadata": {},
   "outputs": [
    {
     "data": {
      "text/plain": [
       "'a a a a a a b b b b b b c c c c c c'"
      ]
     },
     "execution_count": 16,
     "metadata": {},
     "output_type": "execute_result"
    }
   ],
   "source": [
    "p = max(b**v+1, b**(v+1)) # you don't have to understand this yet\n",
    "s = ['a']*(p//3+1) + ['b']*(p//3+1) + ['c']*(p//3+1)\n",
    "' '.join(s)"
   ]
  },
  {
   "cell_type": "markdown",
   "metadata": {},
   "source": [
    "Bill. Let me see..."
   ]
  },
  {
   "cell_type": "code",
   "execution_count": 18,
   "metadata": {},
   "outputs": [
    {
     "data": {
      "image/svg+xml": [
       "<svg width=\"400\" height=\"594\">\n",
       "  <style>\n",
       "    .nonterminal {\n",
       "      font: 14px serif;\n",
       "      text-anchor: middle;\n",
       "    }\n",
       "    .terminal {\n",
       "      font: 14px monospace;\n",
       "      text-anchor: middle;\n",
       "    }\n",
       "  </style>\n",
       "<text x=\"4.5\" y=\"46\" class=\"terminal\">a</text>\n",
       "<text x=\"27.5\" y=\"78\" class=\"terminal\">a</text>\n",
       "<text x=\"50.5\" y=\"110\" class=\"terminal\">a</text>\n",
       "<text x=\"73.5\" y=\"142\" class=\"terminal\">a</text>\n",
       "<text x=\"96.5\" y=\"174\" class=\"terminal\">a</text>\n",
       "<text x=\"119.5\" y=\"206\" class=\"terminal\">a</text>\n",
       "<text x=\"142.5\" y=\"238\" class=\"terminal\">b</text>\n",
       "<text x=\"165.5\" y=\"302\" class=\"terminal\">b</text>\n",
       "<text x=\"188.5\" y=\"366\" class=\"terminal\">b</text>\n",
       "<text x=\"211.5\" y=\"430\" class=\"terminal\">b</text>\n",
       "<text x=\"234.5\" y=\"494\" class=\"terminal\">b</text>\n",
       "<text x=\"257.5\" y=\"558\" class=\"terminal\">b</text>\n",
       "<text x=\"280.5\" y=\"590\" class=\"terminal\">c</text>\n",
       "<text x=\"280.5\" y=\"558\" class=\"nonterminal\">C</text>\n",
       "<line x1=\"280.5\" y1=\"562\" x2=\"280.5\" y2=\"576\" style=\"stroke:rgb(0,0,0);stroke-width:1\"/>\n",
       "<text x=\"269.0\" y=\"526\" class=\"nonterminal\">B</text>\n",
       "<line x1=\"269.0\" y1=\"530\" x2=\"257.5\" y2=\"544\" style=\"stroke:rgb(0,0,0);stroke-width:1\"/>\n",
       "<line x1=\"269.0\" y1=\"530\" x2=\"280.5\" y2=\"544\" style=\"stroke:rgb(0,0,0);stroke-width:1\"/>\n",
       "<text x=\"303.5\" y=\"526\" class=\"terminal\">c</text>\n",
       "<text x=\"286.25\" y=\"494\" class=\"nonterminal\">C</text>\n",
       "<line x1=\"286.25\" y1=\"498\" x2=\"269.0\" y2=\"512\" style=\"stroke:rgb(0,0,0);stroke-width:1\"/>\n",
       "<line x1=\"286.25\" y1=\"498\" x2=\"303.5\" y2=\"512\" style=\"stroke:rgb(0,0,0);stroke-width:1\"/>\n",
       "<text x=\"260.375\" y=\"462\" class=\"nonterminal\">B</text>\n",
       "<line x1=\"260.375\" y1=\"466\" x2=\"234.5\" y2=\"480\" style=\"stroke:rgb(0,0,0);stroke-width:1\"/>\n",
       "<line x1=\"260.375\" y1=\"466\" x2=\"286.25\" y2=\"480\" style=\"stroke:rgb(0,0,0);stroke-width:1\"/>\n",
       "<text x=\"326.5\" y=\"462\" class=\"terminal\">c</text>\n",
       "<text x=\"293.4375\" y=\"430\" class=\"nonterminal\">C</text>\n",
       "<line x1=\"293.4375\" y1=\"434\" x2=\"260.375\" y2=\"448\" style=\"stroke:rgb(0,0,0);stroke-width:1\"/>\n",
       "<line x1=\"293.4375\" y1=\"434\" x2=\"326.5\" y2=\"448\" style=\"stroke:rgb(0,0,0);stroke-width:1\"/>\n",
       "<text x=\"252.46875\" y=\"398\" class=\"nonterminal\">B</text>\n",
       "<line x1=\"252.46875\" y1=\"402\" x2=\"211.5\" y2=\"416\" style=\"stroke:rgb(0,0,0);stroke-width:1\"/>\n",
       "<line x1=\"252.46875\" y1=\"402\" x2=\"293.4375\" y2=\"416\" style=\"stroke:rgb(0,0,0);stroke-width:1\"/>\n",
       "<text x=\"349.5\" y=\"398\" class=\"terminal\">c</text>\n",
       "<text x=\"300.984375\" y=\"366\" class=\"nonterminal\">C</text>\n",
       "<line x1=\"300.984375\" y1=\"370\" x2=\"252.46875\" y2=\"384\" style=\"stroke:rgb(0,0,0);stroke-width:1\"/>\n",
       "<line x1=\"300.984375\" y1=\"370\" x2=\"349.5\" y2=\"384\" style=\"stroke:rgb(0,0,0);stroke-width:1\"/>\n",
       "<text x=\"244.7421875\" y=\"334\" class=\"nonterminal\">B</text>\n",
       "<line x1=\"244.7421875\" y1=\"338\" x2=\"188.5\" y2=\"352\" style=\"stroke:rgb(0,0,0);stroke-width:1\"/>\n",
       "<line x1=\"244.7421875\" y1=\"338\" x2=\"300.984375\" y2=\"352\" style=\"stroke:rgb(0,0,0);stroke-width:1\"/>\n",
       "<text x=\"372.5\" y=\"334\" class=\"terminal\">c</text>\n",
       "<text x=\"308.62109375\" y=\"302\" class=\"nonterminal\">C</text>\n",
       "<line x1=\"308.62109375\" y1=\"306\" x2=\"244.7421875\" y2=\"320\" style=\"stroke:rgb(0,0,0);stroke-width:1\"/>\n",
       "<line x1=\"308.62109375\" y1=\"306\" x2=\"372.5\" y2=\"320\" style=\"stroke:rgb(0,0,0);stroke-width:1\"/>\n",
       "<text x=\"237.060546875\" y=\"270\" class=\"nonterminal\">B</text>\n",
       "<line x1=\"237.060546875\" y1=\"274\" x2=\"165.5\" y2=\"288\" style=\"stroke:rgb(0,0,0);stroke-width:1\"/>\n",
       "<line x1=\"237.060546875\" y1=\"274\" x2=\"308.62109375\" y2=\"288\" style=\"stroke:rgb(0,0,0);stroke-width:1\"/>\n",
       "<text x=\"395.5\" y=\"270\" class=\"terminal\">c</text>\n",
       "<text x=\"316.2802734375\" y=\"238\" class=\"nonterminal\">C</text>\n",
       "<line x1=\"316.2802734375\" y1=\"242\" x2=\"237.060546875\" y2=\"256\" style=\"stroke:rgb(0,0,0);stroke-width:1\"/>\n",
       "<line x1=\"316.2802734375\" y1=\"242\" x2=\"395.5\" y2=\"256\" style=\"stroke:rgb(0,0,0);stroke-width:1\"/>\n",
       "<text x=\"229.39013671875\" y=\"206\" class=\"nonterminal\">B</text>\n",
       "<line x1=\"229.39013671875\" y1=\"210\" x2=\"142.5\" y2=\"224\" style=\"stroke:rgb(0,0,0);stroke-width:1\"/>\n",
       "<line x1=\"229.39013671875\" y1=\"210\" x2=\"316.2802734375\" y2=\"224\" style=\"stroke:rgb(0,0,0);stroke-width:1\"/>\n",
       "<text x=\"174.445068359375\" y=\"174\" class=\"nonterminal\">A</text>\n",
       "<line x1=\"174.445068359375\" y1=\"178\" x2=\"119.5\" y2=\"192\" style=\"stroke:rgb(0,0,0);stroke-width:1\"/>\n",
       "<line x1=\"174.445068359375\" y1=\"178\" x2=\"229.39013671875\" y2=\"192\" style=\"stroke:rgb(0,0,0);stroke-width:1\"/>\n",
       "<text x=\"135.4725341796875\" y=\"142\" class=\"nonterminal\">A</text>\n",
       "<line x1=\"135.4725341796875\" y1=\"146\" x2=\"96.5\" y2=\"160\" style=\"stroke:rgb(0,0,0);stroke-width:1\"/>\n",
       "<line x1=\"135.4725341796875\" y1=\"146\" x2=\"174.445068359375\" y2=\"160\" style=\"stroke:rgb(0,0,0);stroke-width:1\"/>\n",
       "<text x=\"104.48626708984375\" y=\"110\" class=\"nonterminal\">A</text>\n",
       "<line x1=\"104.48626708984375\" y1=\"114\" x2=\"73.5\" y2=\"128\" style=\"stroke:rgb(0,0,0);stroke-width:1\"/>\n",
       "<line x1=\"104.48626708984375\" y1=\"114\" x2=\"135.4725341796875\" y2=\"128\" style=\"stroke:rgb(0,0,0);stroke-width:1\"/>\n",
       "<text x=\"77.49313354492188\" y=\"78\" class=\"nonterminal\">A</text>\n",
       "<line x1=\"77.49313354492188\" y1=\"82\" x2=\"50.5\" y2=\"96\" style=\"stroke:rgb(0,0,0);stroke-width:1\"/>\n",
       "<line x1=\"77.49313354492188\" y1=\"82\" x2=\"104.48626708984375\" y2=\"96\" style=\"stroke:rgb(0,0,0);stroke-width:1\"/>\n",
       "<text x=\"52.49656677246094\" y=\"46\" class=\"nonterminal\">A</text>\n",
       "<line x1=\"52.49656677246094\" y1=\"50\" x2=\"27.5\" y2=\"64\" style=\"stroke:rgb(0,0,0);stroke-width:1\"/>\n",
       "<line x1=\"52.49656677246094\" y1=\"50\" x2=\"77.49313354492188\" y2=\"64\" style=\"stroke:rgb(0,0,0);stroke-width:1\"/>\n",
       "<text x=\"28.49828338623047\" y=\"14\" class=\"nonterminal\">A</text>\n",
       "<line x1=\"28.49828338623047\" y1=\"18\" x2=\"4.5\" y2=\"32\" style=\"stroke:rgb(0,0,0);stroke-width:1\"/>\n",
       "<line x1=\"28.49828338623047\" y1=\"18\" x2=\"52.49656677246094\" y2=\"32\" style=\"stroke:rgb(0,0,0);stroke-width:1\"/>\n",
       "</svg>\n"
      ],
      "text/plain": [
       "<tock.trees.Tree at 0x105568e80>"
      ]
     },
     "execution_count": 18,
     "metadata": {},
     "output_type": "execute_result"
    }
   ],
   "source": [
    "t = grammars.any_parse(g, s)\n",
    "t"
   ]
  },
  {
   "cell_type": "markdown",
   "metadata": {},
   "source": [
    "Alice. How long is the longest path in the parse tree?\n",
    "\n",
    "Bill. Let me see..."
   ]
  },
  {
   "cell_type": "code",
   "execution_count": 25,
   "metadata": {},
   "outputs": [
    {
     "data": {
      "text/plain": [
       "'A A A A A A B C B C B C B C B C B C c'"
      ]
     },
     "execution_count": 25,
     "metadata": {},
     "output_type": "execute_result"
    }
   ],
   "source": [
    "def longest_path(node):\n",
    "    if len(node.children) == 0:\n",
    "        return [node]\n",
    "    else:\n",
    "        return max(([node]+longest_path(child) for child in node.children), key=len)\n",
    "path = longest_path(t)\n",
    "labels = [node.label for node in path]\n",
    "' '.join(labels)"
   ]
  },
  {
   "cell_type": "markdown",
   "metadata": {},
   "source": [
    "Alice. In this path, you use the same nonterminal twice, right?\n",
    "\n",
    "Bill. Let me see..."
   ]
  },
  {
   "cell_type": "code",
   "execution_count": 28,
   "metadata": {},
   "outputs": [
    {
     "name": "stdout",
     "output_type": "stream",
     "text": [
      "Yes.\n"
     ]
    }
   ],
   "source": [
    "index = {}\n",
    "for i in reversed(range(len(path))):\n",
    "    if labels[i] in index:\n",
    "        n1 = path[i]\n",
    "        n2 = index[labels[i]]\n",
    "        break\n",
    "    index[labels[i]] = path[i]\n",
    "else:\n",
    "    assert False\n",
    "print(\"Yes.\")"
   ]
  },
  {
   "cell_type": "markdown",
   "metadata": {},
   "source": [
    "Alice. Starting from the bottom of the tree, let $n_1$ be the first occurrence of the first repeated nonterminal. And let $n_2$ be the second occurrence of that nonterminal.\n",
    "\n",
    "Bill. Okay."
   ]
  },
  {
   "cell_type": "code",
   "execution_count": 30,
   "metadata": {},
   "outputs": [
    {
     "data": {
      "image/svg+xml": [
       "<svg width=\"55\" height=\"114\">\n",
       "  <style>\n",
       "    .nonterminal {\n",
       "      font: 14px serif;\n",
       "      text-anchor: middle;\n",
       "    }\n",
       "    .terminal {\n",
       "      font: 14px monospace;\n",
       "      text-anchor: middle;\n",
       "    }\n",
       "  </style>\n",
       "<text x=\"4.5\" y=\"78\" class=\"terminal\">b</text>\n",
       "<text x=\"27.5\" y=\"110\" class=\"terminal\">c</text>\n",
       "<text x=\"27.5\" y=\"78\" class=\"nonterminal\">C</text>\n",
       "<line x1=\"27.5\" y1=\"82\" x2=\"27.5\" y2=\"96\" style=\"stroke:rgb(0,0,0);stroke-width:1\"/>\n",
       "<text x=\"16.0\" y=\"46\" class=\"nonterminal\">B</text>\n",
       "<line x1=\"16.0\" y1=\"50\" x2=\"4.5\" y2=\"64\" style=\"stroke:rgb(0,0,0);stroke-width:1\"/>\n",
       "<line x1=\"16.0\" y1=\"50\" x2=\"27.5\" y2=\"64\" style=\"stroke:rgb(0,0,0);stroke-width:1\"/>\n",
       "<text x=\"50.5\" y=\"46\" class=\"terminal\">c</text>\n",
       "<text x=\"33.25\" y=\"14\" class=\"nonterminal\">C</text>\n",
       "<line x1=\"33.25\" y1=\"18\" x2=\"16.0\" y2=\"32\" style=\"stroke:rgb(0,0,0);stroke-width:1\"/>\n",
       "<line x1=\"33.25\" y1=\"18\" x2=\"50.5\" y2=\"32\" style=\"stroke:rgb(0,0,0);stroke-width:1\"/>\n",
       "</svg>\n"
      ],
      "text/plain": [
       "<tock.trees.Tree at 0x1051e8a00>"
      ]
     },
     "execution_count": 30,
     "metadata": {},
     "output_type": "execute_result"
    }
   ],
   "source": [
    "n1"
   ]
  },
  {
   "cell_type": "code",
   "execution_count": 31,
   "metadata": {},
   "outputs": [
    {
     "data": {
      "image/svg+xml": [
       "<svg width=\"9\" height=\"50\">\n",
       "  <style>\n",
       "    .nonterminal {\n",
       "      font: 14px serif;\n",
       "      text-anchor: middle;\n",
       "    }\n",
       "    .terminal {\n",
       "      font: 14px monospace;\n",
       "      text-anchor: middle;\n",
       "    }\n",
       "  </style>\n",
       "<text x=\"4.5\" y=\"46\" class=\"terminal\">c</text>\n",
       "<text x=\"4.5\" y=\"14\" class=\"nonterminal\">C</text>\n",
       "<line x1=\"4.5\" y1=\"18\" x2=\"4.5\" y2=\"32\" style=\"stroke:rgb(0,0,0);stroke-width:1\"/>\n",
       "</svg>\n"
      ],
      "text/plain": [
       "<tock.trees.Tree at 0x1051e8250>"
      ]
     },
     "execution_count": 31,
     "metadata": {},
     "output_type": "execute_result"
    }
   ],
   "source": [
    "n2"
   ]
  },
  {
   "cell_type": "markdown",
   "metadata": {},
   "source": [
    "Alice. Let $u$, $v$, $x$, $y$, and $z$ be such that $s = uvxyz$ and $vxy$ is the string under $n_2$ and $x$ is the string under $n_1$.\n",
    "\n",
    "Bill. Okay."
   ]
  },
  {
   "cell_type": "code",
   "execution_count": 38,
   "metadata": {},
   "outputs": [
    {
     "name": "stdout",
     "output_type": "stream",
     "text": [
      "u = a a a a a a b b b b b\n",
      "v = b\n",
      "x = c\n",
      "y = c\n",
      "z = c c c c\n"
     ]
    }
   ],
   "source": [
    "def leaves(node, foot=None):\n",
    "    if node == foot:\n",
    "        return [foot]\n",
    "    elif len(node.children) == 0:\n",
    "        return [node.label]\n",
    "    else:\n",
    "        result = []\n",
    "        for child in node.children:\n",
    "            result.extend(leaves(child, foot))\n",
    "        return result\n",
    "def outside(node, foot):\n",
    "    l = leaves(node, foot)\n",
    "    i = l.index(foot)\n",
    "    return l[:i], l[i+1:]\n",
    "\n",
    "u, z = outside(t, n1)\n",
    "v, y = outside(n1, n2)\n",
    "x = leaves(n2)\n",
    "\n",
    "print('u =', ' '.join(u))\n",
    "print('v =', ' '.join(v))\n",
    "print('x =', ' '.join(x))\n",
    "print('y =', ' '.join(y))\n",
    "print('z =', ' '.join(z))"
   ]
  },
  {
   "cell_type": "markdown",
   "metadata": {},
   "source": [
    "Alice. Does your grammar generate this string?"
   ]
  },
  {
   "cell_type": "code",
   "execution_count": 45,
   "metadata": {},
   "outputs": [
    {
     "data": {
      "text/plain": [
       "'a a a a a a b b b b b b b c c c c c c c'"
      ]
     },
     "execution_count": 45,
     "metadata": {},
     "output_type": "execute_result"
    }
   ],
   "source": [
    "s1 = u + v + v + x + y + y + z\n",
    "' '.join(s1)"
   ]
  },
  {
   "cell_type": "markdown",
   "metadata": {},
   "source": [
    "Bill. Let me see..."
   ]
  },
  {
   "cell_type": "code",
   "execution_count": 46,
   "metadata": {},
   "outputs": [
    {
     "data": {
      "image/svg+xml": [
       "<svg width=\"446\" height=\"658\">\n",
       "  <style>\n",
       "    .nonterminal {\n",
       "      font: 14px serif;\n",
       "      text-anchor: middle;\n",
       "    }\n",
       "    .terminal {\n",
       "      font: 14px monospace;\n",
       "      text-anchor: middle;\n",
       "    }\n",
       "  </style>\n",
       "<text x=\"4.5\" y=\"46\" class=\"terminal\">a</text>\n",
       "<text x=\"27.5\" y=\"78\" class=\"terminal\">a</text>\n",
       "<text x=\"50.5\" y=\"110\" class=\"terminal\">a</text>\n",
       "<text x=\"73.5\" y=\"142\" class=\"terminal\">a</text>\n",
       "<text x=\"96.5\" y=\"174\" class=\"terminal\">a</text>\n",
       "<text x=\"119.5\" y=\"206\" class=\"terminal\">a</text>\n",
       "<text x=\"142.5\" y=\"238\" class=\"terminal\">b</text>\n",
       "<text x=\"165.5\" y=\"302\" class=\"terminal\">b</text>\n",
       "<text x=\"188.5\" y=\"366\" class=\"terminal\">b</text>\n",
       "<text x=\"211.5\" y=\"430\" class=\"terminal\">b</text>\n",
       "<text x=\"234.5\" y=\"494\" class=\"terminal\">b</text>\n",
       "<text x=\"257.5\" y=\"558\" class=\"terminal\">b</text>\n",
       "<text x=\"280.5\" y=\"622\" class=\"terminal\">b</text>\n",
       "<text x=\"303.5\" y=\"654\" class=\"terminal\">c</text>\n",
       "<text x=\"303.5\" y=\"622\" class=\"nonterminal\">C</text>\n",
       "<line x1=\"303.5\" y1=\"626\" x2=\"303.5\" y2=\"640\" style=\"stroke:rgb(0,0,0);stroke-width:1\"/>\n",
       "<text x=\"292.0\" y=\"590\" class=\"nonterminal\">B</text>\n",
       "<line x1=\"292.0\" y1=\"594\" x2=\"280.5\" y2=\"608\" style=\"stroke:rgb(0,0,0);stroke-width:1\"/>\n",
       "<line x1=\"292.0\" y1=\"594\" x2=\"303.5\" y2=\"608\" style=\"stroke:rgb(0,0,0);stroke-width:1\"/>\n",
       "<text x=\"326.5\" y=\"590\" class=\"terminal\">c</text>\n",
       "<text x=\"309.25\" y=\"558\" class=\"nonterminal\">C</text>\n",
       "<line x1=\"309.25\" y1=\"562\" x2=\"292.0\" y2=\"576\" style=\"stroke:rgb(0,0,0);stroke-width:1\"/>\n",
       "<line x1=\"309.25\" y1=\"562\" x2=\"326.5\" y2=\"576\" style=\"stroke:rgb(0,0,0);stroke-width:1\"/>\n",
       "<text x=\"283.375\" y=\"526\" class=\"nonterminal\">B</text>\n",
       "<line x1=\"283.375\" y1=\"530\" x2=\"257.5\" y2=\"544\" style=\"stroke:rgb(0,0,0);stroke-width:1\"/>\n",
       "<line x1=\"283.375\" y1=\"530\" x2=\"309.25\" y2=\"544\" style=\"stroke:rgb(0,0,0);stroke-width:1\"/>\n",
       "<text x=\"349.5\" y=\"526\" class=\"terminal\">c</text>\n",
       "<text x=\"316.4375\" y=\"494\" class=\"nonterminal\">C</text>\n",
       "<line x1=\"316.4375\" y1=\"498\" x2=\"283.375\" y2=\"512\" style=\"stroke:rgb(0,0,0);stroke-width:1\"/>\n",
       "<line x1=\"316.4375\" y1=\"498\" x2=\"349.5\" y2=\"512\" style=\"stroke:rgb(0,0,0);stroke-width:1\"/>\n",
       "<text x=\"275.46875\" y=\"462\" class=\"nonterminal\">B</text>\n",
       "<line x1=\"275.46875\" y1=\"466\" x2=\"234.5\" y2=\"480\" style=\"stroke:rgb(0,0,0);stroke-width:1\"/>\n",
       "<line x1=\"275.46875\" y1=\"466\" x2=\"316.4375\" y2=\"480\" style=\"stroke:rgb(0,0,0);stroke-width:1\"/>\n",
       "<text x=\"372.5\" y=\"462\" class=\"terminal\">c</text>\n",
       "<text x=\"323.984375\" y=\"430\" class=\"nonterminal\">C</text>\n",
       "<line x1=\"323.984375\" y1=\"434\" x2=\"275.46875\" y2=\"448\" style=\"stroke:rgb(0,0,0);stroke-width:1\"/>\n",
       "<line x1=\"323.984375\" y1=\"434\" x2=\"372.5\" y2=\"448\" style=\"stroke:rgb(0,0,0);stroke-width:1\"/>\n",
       "<text x=\"267.7421875\" y=\"398\" class=\"nonterminal\">B</text>\n",
       "<line x1=\"267.7421875\" y1=\"402\" x2=\"211.5\" y2=\"416\" style=\"stroke:rgb(0,0,0);stroke-width:1\"/>\n",
       "<line x1=\"267.7421875\" y1=\"402\" x2=\"323.984375\" y2=\"416\" style=\"stroke:rgb(0,0,0);stroke-width:1\"/>\n",
       "<text x=\"395.5\" y=\"398\" class=\"terminal\">c</text>\n",
       "<text x=\"331.62109375\" y=\"366\" class=\"nonterminal\">C</text>\n",
       "<line x1=\"331.62109375\" y1=\"370\" x2=\"267.7421875\" y2=\"384\" style=\"stroke:rgb(0,0,0);stroke-width:1\"/>\n",
       "<line x1=\"331.62109375\" y1=\"370\" x2=\"395.5\" y2=\"384\" style=\"stroke:rgb(0,0,0);stroke-width:1\"/>\n",
       "<text x=\"260.060546875\" y=\"334\" class=\"nonterminal\">B</text>\n",
       "<line x1=\"260.060546875\" y1=\"338\" x2=\"188.5\" y2=\"352\" style=\"stroke:rgb(0,0,0);stroke-width:1\"/>\n",
       "<line x1=\"260.060546875\" y1=\"338\" x2=\"331.62109375\" y2=\"352\" style=\"stroke:rgb(0,0,0);stroke-width:1\"/>\n",
       "<text x=\"418.5\" y=\"334\" class=\"terminal\">c</text>\n",
       "<text x=\"339.2802734375\" y=\"302\" class=\"nonterminal\">C</text>\n",
       "<line x1=\"339.2802734375\" y1=\"306\" x2=\"260.060546875\" y2=\"320\" style=\"stroke:rgb(0,0,0);stroke-width:1\"/>\n",
       "<line x1=\"339.2802734375\" y1=\"306\" x2=\"418.5\" y2=\"320\" style=\"stroke:rgb(0,0,0);stroke-width:1\"/>\n",
       "<text x=\"252.39013671875\" y=\"270\" class=\"nonterminal\">B</text>\n",
       "<line x1=\"252.39013671875\" y1=\"274\" x2=\"165.5\" y2=\"288\" style=\"stroke:rgb(0,0,0);stroke-width:1\"/>\n",
       "<line x1=\"252.39013671875\" y1=\"274\" x2=\"339.2802734375\" y2=\"288\" style=\"stroke:rgb(0,0,0);stroke-width:1\"/>\n",
       "<text x=\"441.5\" y=\"270\" class=\"terminal\">c</text>\n",
       "<text x=\"346.945068359375\" y=\"238\" class=\"nonterminal\">C</text>\n",
       "<line x1=\"346.945068359375\" y1=\"242\" x2=\"252.39013671875\" y2=\"256\" style=\"stroke:rgb(0,0,0);stroke-width:1\"/>\n",
       "<line x1=\"346.945068359375\" y1=\"242\" x2=\"441.5\" y2=\"256\" style=\"stroke:rgb(0,0,0);stroke-width:1\"/>\n",
       "<text x=\"244.7225341796875\" y=\"206\" class=\"nonterminal\">B</text>\n",
       "<line x1=\"244.7225341796875\" y1=\"210\" x2=\"142.5\" y2=\"224\" style=\"stroke:rgb(0,0,0);stroke-width:1\"/>\n",
       "<line x1=\"244.7225341796875\" y1=\"210\" x2=\"346.945068359375\" y2=\"224\" style=\"stroke:rgb(0,0,0);stroke-width:1\"/>\n",
       "<text x=\"182.11126708984375\" y=\"174\" class=\"nonterminal\">A</text>\n",
       "<line x1=\"182.11126708984375\" y1=\"178\" x2=\"119.5\" y2=\"192\" style=\"stroke:rgb(0,0,0);stroke-width:1\"/>\n",
       "<line x1=\"182.11126708984375\" y1=\"178\" x2=\"244.7225341796875\" y2=\"192\" style=\"stroke:rgb(0,0,0);stroke-width:1\"/>\n",
       "<text x=\"139.30563354492188\" y=\"142\" class=\"nonterminal\">A</text>\n",
       "<line x1=\"139.30563354492188\" y1=\"146\" x2=\"96.5\" y2=\"160\" style=\"stroke:rgb(0,0,0);stroke-width:1\"/>\n",
       "<line x1=\"139.30563354492188\" y1=\"146\" x2=\"182.11126708984375\" y2=\"160\" style=\"stroke:rgb(0,0,0);stroke-width:1\"/>\n",
       "<text x=\"106.40281677246094\" y=\"110\" class=\"nonterminal\">A</text>\n",
       "<line x1=\"106.40281677246094\" y1=\"114\" x2=\"73.5\" y2=\"128\" style=\"stroke:rgb(0,0,0);stroke-width:1\"/>\n",
       "<line x1=\"106.40281677246094\" y1=\"114\" x2=\"139.30563354492188\" y2=\"128\" style=\"stroke:rgb(0,0,0);stroke-width:1\"/>\n",
       "<text x=\"78.45140838623047\" y=\"78\" class=\"nonterminal\">A</text>\n",
       "<line x1=\"78.45140838623047\" y1=\"82\" x2=\"50.5\" y2=\"96\" style=\"stroke:rgb(0,0,0);stroke-width:1\"/>\n",
       "<line x1=\"78.45140838623047\" y1=\"82\" x2=\"106.40281677246094\" y2=\"96\" style=\"stroke:rgb(0,0,0);stroke-width:1\"/>\n",
       "<text x=\"52.975704193115234\" y=\"46\" class=\"nonterminal\">A</text>\n",
       "<line x1=\"52.975704193115234\" y1=\"50\" x2=\"27.5\" y2=\"64\" style=\"stroke:rgb(0,0,0);stroke-width:1\"/>\n",
       "<line x1=\"52.975704193115234\" y1=\"50\" x2=\"78.45140838623047\" y2=\"64\" style=\"stroke:rgb(0,0,0);stroke-width:1\"/>\n",
       "<text x=\"28.737852096557617\" y=\"14\" class=\"nonterminal\">A</text>\n",
       "<line x1=\"28.737852096557617\" y1=\"18\" x2=\"4.5\" y2=\"32\" style=\"stroke:rgb(0,0,0);stroke-width:1\"/>\n",
       "<line x1=\"28.737852096557617\" y1=\"18\" x2=\"52.975704193115234\" y2=\"32\" style=\"stroke:rgb(0,0,0);stroke-width:1\"/>\n",
       "</svg>\n"
      ],
      "text/plain": [
       "<tock.trees.Tree at 0x1054c1580>"
      ]
     },
     "metadata": {},
     "output_type": "display_data"
    },
    {
     "name": "stdout",
     "output_type": "stream",
     "text": [
      "Yes, I lose.\n"
     ]
    }
   ],
   "source": [
    "try:\n",
    "    t1 = grammars.any_parse(g, s1)\n",
    "except ValueError:\n",
    "    print(\"No, I win (this shouldn't happen).\")\n",
    "else:\n",
    "    display(t1)\n",
    "    print(\"Yes, I lose.\")"
   ]
  },
  {
   "attachments": {
    "image.png": {
     "image/png": "[encoded data removed]"
    }
   },
   "cell_type": "markdown",
   "metadata": {},
   "source": [
    "### The pumping length\n",
    "\n",
    "At this point you should read page 126-127 if you haven't already. But I'd like to explain the choice of the pumping length $p$ in a bit more detail.\n",
    "\n",
    "Recall that in the regular pumping lemma, the pumping length $p$ was just the number of states in the DFA. Thus $p$ symbols was enough to ensure that the DFA went through a loop, and the loop had to occur within the first $p$ symbols. Now, we want to know how many terminals is long enough to ensure that the CFG has a path with a loop.\n",
    "\n",
    "Let $b$ be the maximum number of symbols in a right hand side of the grammar, which is also the maximum number of children a node can have. Define the *height* of a tree to be the number of *edges* (equivalently, the number of *nonterminals*) in its longest root-to-leaf path. For example, this tree has height 2:\n",
    "\n",
    "![image.png](attachment:image.png)\n",
    "\n",
    "A tree with height 0 has just 1 leaf; a tree with height 1 has at most $b$ leaves; a tree with height 2 has at most $b^2$ leaves, and in general, the largest possible tree with height $h$ has $b^h$ leaves.\n",
    "\n",
    "We want to set $p$ to guarantee that the tree has a path with a repeated nonterminal, so let's reason backwards to find $p$. There will be a repeated nonterminal if a path has $|V|+1$ nonterminals, that is, the tree has height at least $|V|+1$. The largest tree with height $|V|$ has at most $b^{|V|}$ leaves, so we just need to set $p$ to something bigger than $p=b^{|V|}$. So (reasoning forwards again) if we make the tree have at least $b^{|V|}+1$ leaves, it must have height at least $|V|+1$, that is, it has at least $|V|+1$ nonterminals and a terminal, so by the pigeonhole principle, there must be a repeated nonterminal on this path.\n",
    "\n",
    "We can say more. If we choose the lowest pair of repeated nonterminals, we know that they both must occur within a subtree of height at most $|V|+1$, which means this subtree must have at most $b^{|V|+1}$ leaves.\n",
    "\n",
    "To simplify the statement of the lemma, let's set $p$ to the maximum of $b^{|V|}+1$ and $b^{|V|+1}$. (It will always be the latter, except for the edge case $b=1$.) Then we can make the following claim: if the tree has at least $p$ leaves, there must be a path with a repeated nonterminal, and the repeated nonterminal must occur within a subtree with at most $p$ leaves."
   ]
  },
  {
   "cell_type": "markdown",
   "metadata": {},
   "source": [
    "### Statement of the lemma\n",
    "\n",
    "Here's the formal statement of the lemma. It has the same structure as the regular pumping lemma, but with more variables.\n",
    "\n",
    "- For any context-free language $A$,\n",
    "- there exists a $p$ (the pumping length), such that\n",
    "- for any string $s$ such that $|s| \\geq p$,\n",
    "- there exist $u,v,x,y,z$ such that $s=uvxyz$, $|vy|>0$, $|vxy|\\leq p$, and\n",
    "- for all $i$, $uv^ixy^iz \\in A$."
   ]
  },
  {
   "cell_type": "markdown",
   "metadata": {},
   "source": [
    "### An example proof\n",
    "\n",
    "Now let's use the pumping lemma to properly prove the non-context-freeness of language $B$.\n",
    "\n",
    "Suppose that $B$ is context-free. Given $p$ (the pumping length), let $s = \\mathtt{a}^n \\mathtt{b}^n \\mathtt{c}^n$, where $n = \\lceil p/3 \\rceil$. If $s = uvxyz$ such that either $v$ or $y$ is nonempty, the pumping lemma for context-free languages says that $s' = uvvxyyz \\in B$. But this is impossible, for:\n",
    "\n",
    "- If both $v$ and $y$ contain only one type of symbol, e.g., $v$ contains all $\\mathtt{a}$'s and $y$ contains all $\\mathtt{b}$'s, then $s'$ cannot have an equal number of all three types of symbol. \n",
    "\n",
    "- On the other hand, if either $v$ or $y$ contains two different types of symbol, e.g., contains at least one $\\mathtt{a}$ and one $\\mathtt{b}$, then $s'$ must have, somewhere, $\\mathtt{a}$ after $\\mathtt{b}$ or $\\mathtt{b}$ after $\\mathtt{c}$.\n",
    "\n",
    "In either case, $s'$ cannot belong to $B$, which is a contradiction.\n",
    "\n",
    "**Question.** Show that $\\{ \\mathtt{a}^m \\mathtt{b}^n \\mathtt{c}^m \\mathtt{d}^n \\mid m \\geq 0, n \\geq 0 \\}$ is not context-free.\n",
    "\n",
    "**Question.** Show that $D = \\{ ww \\mid w \\in \\{ \\mathtt{0}, \\mathtt{1} \\}^\\ast \\}$ is not context-free.\n",
    "\n",
    "**Question.** Show that $C = \\{\\mathtt{a}^i \\mathtt{b}^j \\mathtt{c}^k \\mid 0 \\leq i \\leq j \\leq k\\}$ is not context-free."
   ]
  },
  {
   "cell_type": "markdown",
   "metadata": {},
   "source": [
    "## Thursday\n",
    "\n",
    "### Closure properties\n",
    "\n",
    "As with proofs of non-regularity, we can often use closure properties to simplify proofs of non-context-freeness or even make proofs possible that would not be possible otherwise. Here's a partial table of closure properties:\n",
    "\n",
    "| Operation | Regular | Context-free |\n",
    "|:----------|:--------|:-------------|\n",
    "| union     | yes     | yes          |\n",
    "| concatenation | yes | yes          |\n",
    "| Kleene star | yes   | yes          |\n",
    "| complementation | yes | **no**     |\n",
    "| intersection | yes  | **no**       |\n",
    "| intersection with regular | yes | yes |\n",
    "| string homomorphism | yes | yes |\n",
    "\n",
    "The proof of closure under a string homomorphism $\\phi$ is very similar to the proof for NFAs, but applied to PDAs: essentially, every transition that reads input $a$ is replaced with zero or more transitions that read $\\phi(a)$ (like in Figure 2.23).\n",
    "\n",
    "The proof of closure under intersection with a regular language is very similar to the intersection construction for DFAs, but applied to a PDA and a DFA. The details are not necessary for you to learn, but here's the construction:\n",
    "\\begin{align*}\n",
    "P &= (Q_P, \\Sigma, \\Gamma, \\delta_P, s_P, F_P) \\\\\n",
    "M &= (Q_M, \\Sigma, \\delta_M, s_M, F_M) \\\\\n",
    "P \\cap M &= (Q_P \\cap Q_M, \\Sigma, \\Gamma, \\delta, (s_P, s_M), F_P \\times F_M) \\\\\n",
    "\\delta((q, r), a, x) &= ((q', \\delta_M(r, a)), x') && \\text{if $\\delta_P(q, a, x) = (q', x')$} \\\\\n",
    "\\delta((q, r), \\varepsilon, x) &= ((q', r), x') && \\text{if $\\delta_P(q, \\varepsilon, x) = (q', x')$}\n",
    "\\end{align*}\n",
    "\n",
    "Here's an example of where closure properties are useful: Prove that \n",
    "\\begin{equation}\n",
    "E = \\{\\texttt{a}^n \\texttt{b}^n \\texttt{c}^n \\mid \\text{$n$ even}\\} \\cup \\{\\texttt{a}^i \\texttt{b}^j \\texttt{c}^k \\mid \\text{$i$ odd} \\}\n",
    "\\end{equation}\n",
    "is not context-free.\n",
    "\n",
    "If you try to use the pumping lemma directly on this language, you'll run into trouble with the case where $vxy$ is all $\\texttt{a}$'s. You can form a string $s' = uv^lxy^lz$, but if $s'$ has an odd number of $\\texttt{a}$'s, then you won't be able to show that $s'$ doesn't belong to $E$.\n",
    "\n",
    "Instead, suppose that $E$ is context-free. Then $E \\cap (\\texttt{aa})^\\ast \\texttt{b}^\\ast \\texttt{c}^\\ast$ must also be context-free (because CFLs are closed under intersection with regular languages). But $E \\cap (\\texttt{aa})^\\ast \\texttt{b}^\\ast \\texttt{c}^\\ast = \\{\\texttt{a}^n \\texttt{b}^n  \\texttt{c}^n \\mid \\text{$n$ even}\\}$, and this language is easy to prove non-context-free, since it's so similar to $B$ above.\n",
    "\n",
    "### Are human languages context-free? (Optional)"
   ]
  }
 ],
 "metadata": {
  "kernelspec": {
   "display_name": "Python 3",
   "language": "python",
   "name": "python3"
  },
  "language_info": {
   "codemirror_mode": {
    "name": "ipython",
    "version": 3
   },
   "file_extension": ".py",
   "mimetype": "text/x-python",
   "name": "python",
   "nbconvert_exporter": "python",
   "pygments_lexer": "ipython3",
   "version": "3.8.1"
  }
 },
 "nbformat": 4,
 "nbformat_minor": 4
}
