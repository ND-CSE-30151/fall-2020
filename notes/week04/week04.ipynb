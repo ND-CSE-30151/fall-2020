{
 "cells": [
  {
   "cell_type": "markdown",
   "metadata": {},
   "source": [
    "# Week 4: Non-regular languages"
   ]
  },
  {
   "cell_type": "code",
   "execution_count": 1,
   "metadata": {},
   "outputs": [],
   "source": [
    "from tock import *\n",
    "from tock.syntax import String\n",
    "import itertools"
   ]
  },
  {
   "cell_type": "markdown",
   "metadata": {},
   "source": [
    "# Tuesday\n",
    "\n",
    "<div class=\"alert alert-info\"><p><b>Read</b> Section 1.4, focusing on pages 77-79.</p><p><b>Watch</b> <a href=\"https://notredame.hosted.panopto.com/Panopto/Pages/Viewer.aspx?id=bc527839-84d7-44b2-bff1-ac06012dd091\">W4E1: Prelude to the Pumping Lemma.</a></div>\n",
    "\n",
    "## Non-regular languages\n",
    "\n",
    "We've seen that three computational models (DFA, NFA, regular expression) turn out to recognize the same class of languages, the regular languages. Are there languages that aren't regular? Definitely -- the two classic examples are\n",
    "\n",
    "$$ B = \\{\\mathtt{0}^n \\mathtt{1}^n \\mid n \\geq 0\\} $$\n",
    "$$ G = \\{w w^R \\mid w \\in \\{\\mathtt{0}, \\mathtt{1}\\}^\\ast \\} $$\n",
    "\n",
    "The intuitive reason why is: If I give you two strings $u, v$, what information would you need about $u$ to decide whether $uv$ is in the language? Let's say that $L$ is the language of natural base-10 numbers that are divisible by 3. Recall that a number is divisible by 3 iff its digits sum to a multiple of 3. So the only information that you need about $u$ is the sum of its digits, _modulo 3_. That's a finite amount of information, so the language is regular.\n",
    "\n",
    "Now consider $B$. If I give you $u=\\mathtt{000001}$, the only $v$ that matches up with it is $v=\\mathtt{1111}$. The information that you need about $u$ is how many $\\mathtt{0}$'s it contains -- which can be unbounded. So, intuitively, this is not a regular language.\n",
    "\n",
    "## The pumping lemma\n",
    "\n",
    "But how do we really prove that $B$ is not regular? To do this, we entertain the possibility that it *is* regular. If there were a DFA $M$ that recognizes $B$, we try to \"break\" it by finding a string that is *not* in $B$ but *is* accepted by $M$. If we show that we can break *all* possible DFAs in this way, then that means we've shown that there is *no* DFA that recognizes $B$. So $B$ is not regular.\n",
    "\n",
    "The way that we are going to find the string that breaks $M$ involves a back-and-forth that is best thought of as a dialogue. Below, we imagine a dialogue between two people named Alice and Bill. Bill proposes $M$. Alice gives Bill a \"test\" string $s$ that $M$ is supposed to accept. But then, she uses the information that Bill reveals to concoct another string, and this is the one that breaks $M$.\n",
    "\n",
    "## A dialogue\n",
    "\n",
    "Alice. The language $B = \\{\\texttt{0}^n \\texttt{1}^n \\mid n \\geq 0\\}$ is not regular.\n",
    "\n",
    "Bill. Yes it is!\n",
    "\n",
    "Alice. Oh really, then show me a DFA that generates it.\n",
    "\n",
    "Bill. Here's one:"
   ]
  },
  {
   "cell_type": "code",
   "execution_count": 2,
   "metadata": {},
   "outputs": [
    {
     "data": {
      "image/svg+xml": [
       "<svg xmlns=\"http://www.w3.org/2000/svg\" xmlns:xlink=\"http://www.w3.org/1999/xlink\" width=\"144pt\" height=\"67pt\" viewBox=\"0.00 0.00 144.00 67.00\">\n",
       "<g id=\"graph0\" class=\"graph\" transform=\"scale(1 1) rotate(0) translate(4 63)\">\n",
       "\n",
       "<polygon fill=\"white\" stroke=\"transparent\" points=\"-4,4 -4,-63 140,-63 140,4 -4,4\"/>\n",
       "<!-- _START -->\n",
       "<g id=\"node1\" class=\"node\">\n",
       "\n",
       "</g>\n",
       "<!-- 0 -->\n",
       "<g id=\"node2\" class=\"node\">\n",
       "\n",
       "<path fill=\"none\" stroke=\"black\" d=\"M53.33,-21C53.33,-21 43.67,-21 43.67,-21 40.83,-21 38,-18.17 38,-15.33 38,-15.33 38,-9.67 38,-9.67 38,-6.83 40.83,-4 43.67,-4 43.67,-4 53.33,-4 53.33,-4 56.17,-4 59,-6.83 59,-9.67 59,-9.67 59,-15.33 59,-15.33 59,-18.17 56.17,-21 53.33,-21\"/>\n",
       "<text text-anchor=\"start\" x=\"42\" y=\"-10\" font-family=\"Courier,monospace\" font-size=\"10.00\">q1</text>\n",
       "</g>\n",
       "<!-- _START&#45;&gt;0 -->\n",
       "<g id=\"edge1\" class=\"edge\">\n",
       "\n",
       "<path fill=\"none\" stroke=\"black\" d=\"M1.13,-12.5C2.79,-12.5 19.6,-12.5 32.5,-12.5\"/>\n",
       "<polygon fill=\"black\" stroke=\"black\" points=\"37.74,-12.5 32.74,-14.75 35.24,-12.5 32.74,-12.5 32.74,-12.5 32.74,-12.5 35.24,-12.5 32.74,-10.25 37.74,-12.5 37.74,-12.5\"/>\n",
       "</g>\n",
       "<!-- 0&#45;&gt;0 -->\n",
       "<g id=\"edge2\" class=\"edge\">\n",
       "\n",
       "<path fill=\"none\" stroke=\"black\" d=\"M44.33,-21.19C42.02,-29.67 43.41,-39 48.5,-39 52.55,-39 54.26,-33.08 53.62,-26.38\"/>\n",
       "<polygon fill=\"black\" stroke=\"black\" points=\"52.67,-21.19 55.78,-25.7 53.12,-23.65 53.57,-26.1 53.57,-26.1 53.57,-26.1 53.12,-23.65 51.36,-26.51 52.67,-21.19 52.67,-21.19\"/>\n",
       "<text text-anchor=\"start\" x=\"45.5\" y=\"-44.8\" font-family=\"Courier,monospace\" font-size=\"9.00\">0</text>\n",
       "</g>\n",
       "<!-- 1 -->\n",
       "<g id=\"node3\" class=\"node\">\n",
       "\n",
       "<path fill=\"none\" stroke=\"black\" d=\"M126.33,-21C126.33,-21 116.67,-21 116.67,-21 113.83,-21 111,-18.17 111,-15.33 111,-15.33 111,-9.67 111,-9.67 111,-6.83 113.83,-4 116.67,-4 116.67,-4 126.33,-4 126.33,-4 129.17,-4 132,-6.83 132,-9.67 132,-9.67 132,-15.33 132,-15.33 132,-18.17 129.17,-21 126.33,-21\"/>\n",
       "<path fill=\"none\" stroke=\"black\" d=\"M127.67,-25C127.67,-25 115.33,-25 115.33,-25 111.17,-25 107,-20.83 107,-16.67 107,-16.67 107,-8.33 107,-8.33 107,-4.17 111.17,0 115.33,0 115.33,0 127.67,0 127.67,0 131.83,0 136,-4.17 136,-8.33 136,-8.33 136,-16.67 136,-16.67 136,-20.83 131.83,-25 127.67,-25\"/>\n",
       "<text text-anchor=\"start\" x=\"115\" y=\"-10\" font-family=\"Courier,monospace\" font-size=\"10.00\">q2</text>\n",
       "</g>\n",
       "<!-- 0&#45;&gt;1 -->\n",
       "<g id=\"edge3\" class=\"edge\">\n",
       "\n",
       "<path fill=\"none\" stroke=\"black\" d=\"M59.08,-12.5C69.97,-12.5 88.02,-12.5 101.75,-12.5\"/>\n",
       "<polygon fill=\"black\" stroke=\"black\" points=\"106.96,-12.5 101.96,-14.75 104.46,-12.5 101.96,-12.5 101.96,-12.5 101.96,-12.5 104.46,-12.5 101.96,-10.25 106.96,-12.5 106.96,-12.5\"/>\n",
       "<text text-anchor=\"start\" x=\"80\" y=\"-18.3\" font-family=\"Courier,monospace\" font-size=\"9.00\">1</text>\n",
       "</g>\n",
       "<!-- 1&#45;&gt;1 -->\n",
       "<g id=\"edge4\" class=\"edge\">\n",
       "\n",
       "<path fill=\"none\" stroke=\"black\" d=\"M115.14,-25.03C113.07,-34.03 115.19,-43 121.5,-43 126.63,-43 128.99,-37.08 128.58,-30.03\"/>\n",
       "<polygon fill=\"black\" stroke=\"black\" points=\"127.86,-25.03 130.8,-29.66 128.22,-27.51 128.57,-29.98 128.57,-29.98 128.57,-29.98 128.22,-27.51 126.35,-30.3 127.86,-25.03 127.86,-25.03\"/>\n",
       "<text text-anchor=\"start\" x=\"118.5\" y=\"-48.8\" font-family=\"Courier,monospace\" font-size=\"9.00\">1</text>\n",
       "</g>\n",
       "</g>\n",
       "</svg>"
      ],
      "text/plain": [
       "<IPython.core.display.SVG object>"
      ]
     },
     "metadata": {},
     "output_type": "display_data"
    }
   ],
   "source": [
    "m = read_csv(\"pumping1.csv\")\n",
    "m"
   ]
  },
  {
   "cell_type": "markdown",
   "metadata": {},
   "source": [
    "Alice. How many states does it have?\n",
    "\n",
    "Bill. Let me see..."
   ]
  },
  {
   "cell_type": "code",
   "execution_count": 3,
   "metadata": {},
   "outputs": [
    {
     "data": {
      "text/plain": [
       "2"
      ]
     },
     "execution_count": 3,
     "metadata": {},
     "output_type": "execute_result"
    }
   ],
   "source": [
    "p = len(m.states)\n",
    "p"
   ]
  },
  {
   "cell_type": "markdown",
   "metadata": {},
   "source": [
    "Alice. Does your automaton accept the string $s = \\texttt{0}^p \\texttt{1}^p$?"
   ]
  },
  {
   "cell_type": "code",
   "execution_count": 4,
   "metadata": {},
   "outputs": [
    {
     "data": {
      "text/html": [
       "0 0 1 1"
      ],
      "text/plain": [
       "String(values=('0', '0', '1', '1'))"
      ]
     },
     "execution_count": 4,
     "metadata": {},
     "output_type": "execute_result"
    }
   ],
   "source": [
    "s = String(['0']*p + ['1']*p)\n",
    "s"
   ]
  },
  {
   "cell_type": "markdown",
   "metadata": {},
   "source": [
    "Bill. Let me see..."
   ]
  },
  {
   "cell_type": "code",
   "execution_count": 5,
   "metadata": {},
   "outputs": [
    {
     "data": {
      "image/svg+xml": [
       "<svg xmlns=\"http://www.w3.org/2000/svg\" xmlns:xlink=\"http://www.w3.org/1999/xlink\" width=\"433pt\" height=\"76pt\" viewBox=\"0.00 0.00 433.00 75.50\">\n",
       "<g id=\"graph0\" class=\"graph\" transform=\"scale(1 1) rotate(0) translate(4 71.5)\">\n",
       "\n",
       "<polygon fill=\"white\" stroke=\"transparent\" points=\"-4,4 -4,-71.5 429,-71.5 429,4 -4,4\"/>\n",
       "<!-- _START -->\n",
       "<g id=\"node1\" class=\"node\">\n",
       "\n",
       "</g>\n",
       "<!-- 4 -->\n",
       "<g id=\"node6\" class=\"node\">\n",
       "\n",
       "<path fill=\"none\" stroke=\"black\" d=\"M62.33,-21C62.33,-21 52.67,-21 52.67,-21 49.83,-21 47,-18.17 47,-15.33 47,-15.33 47,-9.67 47,-9.67 47,-6.83 49.83,-4 52.67,-4 52.67,-4 62.33,-4 62.33,-4 65.17,-4 68,-6.83 68,-9.67 68,-9.67 68,-15.33 68,-15.33 68,-18.17 65.17,-21 62.33,-21\"/>\n",
       "<text text-anchor=\"start\" x=\"51\" y=\"-10\" font-family=\"Courier,monospace\" font-size=\"10.00\">q1</text>\n",
       "</g>\n",
       "<!-- _START&#45;&gt;4 -->\n",
       "<g id=\"edge1\" class=\"edge\">\n",
       "\n",
       "<path fill=\"none\" stroke=\"black\" d=\"M1.16,-12.5C3.27,-12.5 25.82,-12.5 41.47,-12.5\"/>\n",
       "<polygon fill=\"black\" stroke=\"black\" points=\"46.88,-12.5 41.88,-14.75 44.38,-12.5 41.88,-12.5 41.88,-12.5 41.88,-12.5 44.38,-12.5 41.88,-10.25 46.88,-12.5 46.88,-12.5\"/>\n",
       "</g>\n",
       "<!-- 0 -->\n",
       "<g id=\"node2\" class=\"node\">\n",
       "\n",
       "<path fill=\"none\" stroke=\"black\" d=\"M410.33,-21C410.33,-21 400.67,-21 400.67,-21 397.83,-21 395,-18.17 395,-15.33 395,-15.33 395,-9.67 395,-9.67 395,-6.83 397.83,-4 400.67,-4 400.67,-4 410.33,-4 410.33,-4 413.17,-4 416,-6.83 416,-9.67 416,-9.67 416,-15.33 416,-15.33 416,-18.17 413.17,-21 410.33,-21\"/>\n",
       "<path fill=\"none\" stroke=\"black\" d=\"M411.67,-25C411.67,-25 399.33,-25 399.33,-25 395.17,-25 391,-20.83 391,-16.67 391,-16.67 391,-8.33 391,-8.33 391,-4.17 395.17,0 399.33,0 399.33,0 411.67,0 411.67,0 415.83,0 420,-4.17 420,-8.33 420,-8.33 420,-16.67 420,-16.67 420,-20.83 415.83,-25 411.67,-25\"/>\n",
       "<text text-anchor=\"start\" x=\"399\" y=\"-10\" font-family=\"Courier,monospace\" font-size=\"10.00\">q2</text>\n",
       "</g>\n",
       "<!-- 1 -->\n",
       "<g id=\"node3\" class=\"node\">\n",
       "\n",
       "<path fill=\"none\" stroke=\"black\" d=\"M236.33,-21C236.33,-21 226.67,-21 226.67,-21 223.83,-21 221,-18.17 221,-15.33 221,-15.33 221,-9.67 221,-9.67 221,-6.83 223.83,-4 226.67,-4 226.67,-4 236.33,-4 236.33,-4 239.17,-4 242,-6.83 242,-9.67 242,-9.67 242,-15.33 242,-15.33 242,-18.17 239.17,-21 236.33,-21\"/>\n",
       "<text text-anchor=\"start\" x=\"225\" y=\"-10\" font-family=\"Courier,monospace\" font-size=\"10.00\">q1</text>\n",
       "</g>\n",
       "<!-- 3 -->\n",
       "<g id=\"node5\" class=\"node\">\n",
       "\n",
       "<path fill=\"none\" stroke=\"black\" d=\"M323.33,-21C323.33,-21 313.67,-21 313.67,-21 310.83,-21 308,-18.17 308,-15.33 308,-15.33 308,-9.67 308,-9.67 308,-6.83 310.83,-4 313.67,-4 313.67,-4 323.33,-4 323.33,-4 326.17,-4 329,-6.83 329,-9.67 329,-9.67 329,-15.33 329,-15.33 329,-18.17 326.17,-21 323.33,-21\"/>\n",
       "<text text-anchor=\"start\" x=\"312\" y=\"-10\" font-family=\"Courier,monospace\" font-size=\"10.00\">q2</text>\n",
       "</g>\n",
       "<!-- 1&#45;&gt;3 -->\n",
       "<g id=\"edge4\" class=\"edge\">\n",
       "\n",
       "<path fill=\"none\" stroke=\"black\" d=\"M242.25,-12.5C256.98,-12.5 285.03,-12.5 302.41,-12.5\"/>\n",
       "<polygon fill=\"black\" stroke=\"black\" points=\"307.86,-12.5 302.86,-14.75 305.36,-12.5 302.86,-12.5 302.86,-12.5 302.86,-12.5 305.36,-12.5 302.86,-10.25 307.86,-12.5 307.86,-12.5\"/>\n",
       "</g>\n",
       "<!-- 2 -->\n",
       "<g id=\"node4\" class=\"node\">\n",
       "\n",
       "<path fill=\"none\" stroke=\"black\" d=\"M149.33,-21C149.33,-21 139.67,-21 139.67,-21 136.83,-21 134,-18.17 134,-15.33 134,-15.33 134,-9.67 134,-9.67 134,-6.83 136.83,-4 139.67,-4 139.67,-4 149.33,-4 149.33,-4 152.17,-4 155,-6.83 155,-9.67 155,-9.67 155,-15.33 155,-15.33 155,-18.17 152.17,-21 149.33,-21\"/>\n",
       "<text text-anchor=\"start\" x=\"138\" y=\"-10\" font-family=\"Courier,monospace\" font-size=\"10.00\">q1</text>\n",
       "</g>\n",
       "<!-- 2&#45;&gt;1 -->\n",
       "<g id=\"edge3\" class=\"edge\">\n",
       "\n",
       "<path fill=\"none\" stroke=\"black\" d=\"M155.25,-12.5C169.98,-12.5 198.03,-12.5 215.41,-12.5\"/>\n",
       "<polygon fill=\"black\" stroke=\"black\" points=\"220.86,-12.5 215.86,-14.75 218.36,-12.5 215.86,-12.5 215.86,-12.5 215.86,-12.5 218.36,-12.5 215.86,-10.25 220.86,-12.5 220.86,-12.5\"/>\n",
       "</g>\n",
       "<!-- 3&#45;&gt;0 -->\n",
       "<g id=\"edge5\" class=\"edge\">\n",
       "\n",
       "<path fill=\"none\" stroke=\"black\" d=\"M329.25,-12.5C343,-12.5 368.36,-12.5 385.81,-12.5\"/>\n",
       "<polygon fill=\"black\" stroke=\"black\" points=\"390.96,-12.5 385.96,-14.75 388.46,-12.5 385.96,-12.5 385.96,-12.5 385.96,-12.5 388.46,-12.5 385.96,-10.25 390.96,-12.5 390.96,-12.5\"/>\n",
       "</g>\n",
       "<!-- 4&#45;&gt;2 -->\n",
       "<g id=\"edge2\" class=\"edge\">\n",
       "\n",
       "<path fill=\"none\" stroke=\"black\" d=\"M68.25,-12.5C82.98,-12.5 111.03,-12.5 128.41,-12.5\"/>\n",
       "<polygon fill=\"black\" stroke=\"black\" points=\"133.86,-12.5 128.86,-14.75 131.36,-12.5 128.86,-12.5 128.86,-12.5 128.86,-12.5 131.36,-12.5 128.86,-10.25 133.86,-12.5 133.86,-12.5\"/>\n",
       "</g>\n",
       "<!-- 5 -->\n",
       "<g id=\"node7\" class=\"node\">\n",
       "\n",
       "</g>\n",
       "<!-- 6 -->\n",
       "<g id=\"node8\" class=\"node\">\n",
       "\n",
       "</g>\n",
       "<!-- 5&#45;&gt;6 -->\n",
       "<g id=\"edge6\" class=\"edge\">\n",
       "\n",
       "<path fill=\"none\" stroke=\"white\" d=\"M77.36,-51.5C89.89,-51.5 106.42,-51.5 119.83,-51.5\"/>\n",
       "<polygon fill=\"white\" stroke=\"white\" points=\"124.98,-51.5 119.98,-53.75 122.48,-51.5 119.98,-51.5 119.98,-51.5 119.98,-51.5 122.48,-51.5 119.98,-49.25 124.98,-51.5 124.98,-51.5\"/>\n",
       "<text text-anchor=\"start\" x=\"98\" y=\"-57.3\" font-family=\"Courier,monospace\" font-size=\"9.00\">0</text>\n",
       "</g>\n",
       "<!-- 7 -->\n",
       "<g id=\"node9\" class=\"node\">\n",
       "\n",
       "</g>\n",
       "<!-- 6&#45;&gt;7 -->\n",
       "<g id=\"edge7\" class=\"edge\">\n",
       "\n",
       "<path fill=\"none\" stroke=\"white\" d=\"M164.36,-51.5C176.89,-51.5 193.42,-51.5 206.83,-51.5\"/>\n",
       "<polygon fill=\"white\" stroke=\"white\" points=\"211.98,-51.5 206.98,-53.75 209.48,-51.5 206.98,-51.5 206.98,-51.5 206.98,-51.5 209.48,-51.5 206.98,-49.25 211.98,-51.5 211.98,-51.5\"/>\n",
       "<text text-anchor=\"start\" x=\"185\" y=\"-57.3\" font-family=\"Courier,monospace\" font-size=\"9.00\">0</text>\n",
       "</g>\n",
       "<!-- 8 -->\n",
       "<g id=\"node10\" class=\"node\">\n",
       "\n",
       "</g>\n",
       "<!-- 7&#45;&gt;8 -->\n",
       "<g id=\"edge8\" class=\"edge\">\n",
       "\n",
       "<path fill=\"none\" stroke=\"white\" d=\"M251.36,-51.5C263.89,-51.5 280.42,-51.5 293.83,-51.5\"/>\n",
       "<polygon fill=\"white\" stroke=\"white\" points=\"298.98,-51.5 293.98,-53.75 296.48,-51.5 293.98,-51.5 293.98,-51.5 293.98,-51.5 296.48,-51.5 293.98,-49.25 298.98,-51.5 298.98,-51.5\"/>\n",
       "<text text-anchor=\"start\" x=\"272\" y=\"-57.3\" font-family=\"Courier,monospace\" font-size=\"9.00\">1</text>\n",
       "</g>\n",
       "<!-- 9 -->\n",
       "<g id=\"node11\" class=\"node\">\n",
       "\n",
       "</g>\n",
       "<!-- 8&#45;&gt;9 -->\n",
       "<g id=\"edge9\" class=\"edge\">\n",
       "\n",
       "<path fill=\"none\" stroke=\"white\" d=\"M338.36,-51.5C350.89,-51.5 367.42,-51.5 380.83,-51.5\"/>\n",
       "<polygon fill=\"white\" stroke=\"white\" points=\"385.98,-51.5 380.98,-53.75 383.48,-51.5 380.98,-51.5 380.98,-51.5 380.98,-51.5 383.48,-51.5 380.98,-49.25 385.98,-51.5 385.98,-51.5\"/>\n",
       "<text text-anchor=\"start\" x=\"359\" y=\"-57.3\" font-family=\"Courier,monospace\" font-size=\"9.00\">1</text>\n",
       "</g>\n",
       "</g>\n",
       "</svg>"
      ],
      "text/plain": [
       "<IPython.core.display.SVG object>"
      ]
     },
     "metadata": {},
     "output_type": "display_data"
    },
    {
     "name": "stdout",
     "output_type": "stream",
     "text": [
      "Yes.\n"
     ]
    }
   ],
   "source": [
    "graph = run(m, s)\n",
    "display(graph)\n",
    "path = graph.only_path()\n",
    "if path.accept:\n",
    "    print('Yes.')\n",
    "else:\n",
    "    print('No, I lose.')"
   ]
  },
  {
   "cell_type": "markdown",
   "metadata": {},
   "source": [
    "Alice. Does this run use a state twice while reading in the first half of the string?\n",
    "\n",
    "Bill. Let me see..."
   ]
  },
  {
   "cell_type": "code",
   "execution_count": 6,
   "metadata": {},
   "outputs": [
    {
     "name": "stdout",
     "output_type": "stream",
     "text": [
      "Yes, the state is q1.\n"
     ]
    }
   ],
   "source": [
    "if path.accept:\n",
    "    for i, j in itertools.combinations(range(p+1), 2):\n",
    "        if path[i][0] == path[j][0]:\n",
    "            print(f'Yes, the state is {path[i][0]}.')\n",
    "            break\n",
    "    else:\n",
    "        print(f'No.')\n",
    "else:\n",
    "    print(\"I've lost already.\")"
   ]
  },
  {
   "cell_type": "markdown",
   "metadata": {},
   "source": [
    "Alice. What are the strings that it reads up to the first visit, between the first and second visits, and after the second visit?"
   ]
  },
  {
   "cell_type": "code",
   "execution_count": 7,
   "metadata": {},
   "outputs": [
    {
     "name": "stdout",
     "output_type": "stream",
     "text": [
      "ε, 0, and 0 1 1\n"
     ]
    }
   ],
   "source": [
    "if path.accept:\n",
    "    x = String(s[:i])\n",
    "    y = String(s[i:j])\n",
    "    z = String(s[j:])\n",
    "    print(f'{x}, {y}, and {z}')\n",
    "else:\n",
    "    print(\"I've lost already.\")\n",
    "    x = y = z = []"
   ]
  },
  {
   "cell_type": "markdown",
   "metadata": {},
   "source": [
    "Alice. So, does your automaton accept this string?"
   ]
  },
  {
   "cell_type": "code",
   "execution_count": 8,
   "metadata": {},
   "outputs": [
    {
     "data": {
      "text/html": [
       "0 0 0 1 1"
      ],
      "text/plain": [
       "String(values=('0', '0', '0', '1', '1'))"
      ]
     },
     "execution_count": 8,
     "metadata": {},
     "output_type": "execute_result"
    }
   ],
   "source": [
    "s2 = x + 2 * y + z\n",
    "s2"
   ]
  },
  {
   "cell_type": "markdown",
   "metadata": {},
   "source": [
    "Bill. Let me see..."
   ]
  },
  {
   "cell_type": "code",
   "execution_count": 9,
   "metadata": {},
   "outputs": [
    {
     "name": "stdout",
     "output_type": "stream",
     "text": [
      "Yes, I lose.\n"
     ]
    }
   ],
   "source": [
    "if path.accept:\n",
    "    p2 = run(m, s2).only_path()\n",
    "    if p2.accept:\n",
    "        print('Yes, I lose.')\n",
    "    else:\n",
    "        print('No.')\n",
    "else:\n",
    "    print(\"I've lost already.\")"
   ]
  },
  {
   "cell_type": "markdown",
   "metadata": {},
   "source": [
    "Try loading some other automata (`pumping2.csv`, `pumping3.csv`) to see how Bill always fails."
   ]
  },
  {
   "attachments": {
    "image.png": {
     "image/png": "[encoded data removed]"
    }
   },
   "cell_type": "markdown",
   "metadata": {},
   "source": [
    "## The dialogue explained\n",
    "\n",
    "<p class=\"alert alert-info\"><b>Watch</b> <a href=\"https://notredame.hosted.panopto.com/Panopto/Pages/Viewer.aspx?id=bc527839-84d7-44b2-bff1-ac06012dd091\"></a> W4E2: The Pumping Lemma.</p>\n",
    "\n",
    "Alice first chooses $s = \\texttt{0}^p \\texttt{1}^p$, which she knows belongs to $B$. Hopefully it will become clear soon why she chooses this particular string.\n",
    "\n",
    "Alice knows that Bill's DFA $M$, which supposedly recognizes $B$, has $p$ states. And on reading the first $p$ symbols, this automaton must make $(p+1)$ visits to states: first the start state, then one for each symbol. By the [pigeonhole principle](https://en.wikipedia.org/wiki/Pigeonhole_principle), two of these visits must be to the same state. So when she asks Bill whether this happens, she knows that the answer must be yes.\n",
    "\n",
    "Now let $x$ be the part of the string read before the first visit, let $y$ be the part of the string read between the two visits, and let $z$ be the part of the string read after the second visit. Alice knows that $y$ is nonempty because $M$ is a DFA, and $|xy| \\leq p$ because the repeat must occur within the first $p$ symbols. Her choice of $s$, then, guarantees that $y$ consists of one or more $\\texttt{0}$'s and no $\\texttt{1}$'s.\n",
    "\n",
    "Here's what the accepting path for $s$ looks like:\n",
    "![image.png](attachment:image.png)\n",
    "The dashed line stands for one or more transitions. By going around the loop zero times, we get an accepting path for $xz$; by going around the loop two times, we get accepting path for $xyyz$; and in general, by going around the loop $i$ times, we get an accepting path for $xy^iz$. So all of these strings must be accepted by $M$.\n",
    "\n",
    "Alice chooses one of these strings. In this case, the choice doesn't matter too much; she chooses $i=2$. But because $y$ consists of one or more $\\texttt{0}$'s and no $\\texttt{1}$'s, $xyyz$ has more $\\texttt{0}$'s than $\\texttt{1}$'s and therefore does not belong to $B$. \n",
    "\n",
    "Since $M$ accepts $xyyz$ but $xyyz \\not\\in B$, $M$ does not recognize $B$."
   ]
  },
  {
   "cell_type": "markdown",
   "metadata": {},
   "source": [
    "## The dialogue becomes a proof\n",
    "\n",
    "Now we distill the dialogue into a proof.\n",
    "\n",
    "Claim: The language $B = \\{\\texttt{0}^n \\texttt{1}^n \\mid n \\geq 0\\}$ is not regular.\n",
    "\n",
    "Proof: Suppose, for the sake of contradiction, that there is a DFA $M$ that recognizes $B$. Let $p$ be the number of states in $M$. Let $s = \\texttt{0}^p \\texttt{1}^p$, which belongs to $B$, so is accepted by $M$. On reading the first $p$ symbols of $s$, $M$ makes $(p+1)$ visits to states (the start state plus one for each symbol). But $M$ has only $p$ states, so by the pigeonhole principle, it must visit the same state $q$ twice while reading the first $p$ symbols. \n",
    "\n",
    "Let $x$ be the string read before the first visit to $q$, let $y$ be the string read between the first two visits to $q$, and let $z$ be the rest of the string. We know that $y$ must be nonempty because $M$ is a DFA, and $y$ must contain only $\\texttt{0}$s, because the repeat visit to $q$ occurred within the first $p$ symbols of $s$.\n",
    "\n",
    "So $xyyz$ has more $\\texttt{0}$'s than $\\texttt{1}$'s, so it does not belong to $B$. But $M$ must accept $xyyz$. This contradicts the assumption that $M$ recognizes $B$."
   ]
  },
  {
   "cell_type": "markdown",
   "metadata": {},
   "source": [
    "## The pumping lemma\n",
    "\n",
    "If you were to write more and more of these proofs, however, you would find yourself making the same argument over and over. The pumping lemma is like a boilerplate non-regularity proof that you can use to simplify your proofs.\n",
    "\n",
    "The lemma itself goes like this:\n",
    "\n",
    "1. For all regular languages $A$,\n",
    "2. there exists a $p \\geq 1$ such that\n",
    "3. for all $s \\in A$ such that $|s| \\geq p$,\n",
    "4. there exist $x, y, z$ such that $s = xyz$, $|y| > 0$, $|xy| \\leq p$ and\n",
    "5. for all $i \\geq 0$, $x y^i z \\in A$.\n",
    "\n",
    "And here is how you use it:\n",
    "\n",
    "Claim: The language $B = \\{\\texttt{0}^n \\texttt{1}^n \\mid n \\geq 0\\}$ is not regular.\n",
    "\n",
    "Proof: Suppose, for the sake of contradiction, that $B$ is regular. By the pumping lemma for regular languages, there is a $p \\geq 1$ such that any $s \\in B$ such that $|s| \\geq p$ can be written as $s = xyz$, where $|y| > 0$, $|xy| \\leq p$, and for all $i$, $x y^i z \\in B$.\n",
    "\n",
    "Let $s = \\texttt{0}^p \\texttt{1}^p$ (line 3). Then the pumping lemma writes $s$ as $xyz$, where $|y| > 0$ and $|xy| \\leq p$ (line 4), which means that $y$ consists of one or more $\\texttt{0}$'s. Let $i=2$. The pumping lemma says (line 5) that $xy^iz \\in B$, but $xy^iz$ contains more $\\texttt{0}$s than $\\texttt{1}$s, which is a contradiction.\n",
    "\n",
    "The advantage is that this proof is shorter and doesn't need to make reference to an actual automaton. If you prefer to use the longer form, it's fine with me. But, regardless, you need to understand the argument, and it's critical that you remember which variables you get to choose and which variables you don't get to choose. Your job, as Alice, is to choose $s$ (line 3) and $i$ (line 5), and to produce a contradiction, namely, that $xy^iz$ does not belong to the language. Bill chooses $p$ (line 2) and $xyz$ (line 4); since you don't get to choose them, you must write your argument to work for any values of $p$ and $xyz$."
   ]
  },
  {
   "cell_type": "markdown",
   "metadata": {},
   "source": [
    "## More practice with the pumping lemma\n",
    "\n",
    "**Question.** Prove that $G = \\{ ww^R \\mid w \\in \\{\\mathtt{0},\\mathtt{1}\\}^\\ast\\}$ is not regular.\n",
    "\n",
    "**Question.** Prove that $C = \\{w \\in \\{\\mathtt{0}, \\mathtt{1}\\}^\\ast \\mid \\text{$w$ contains an equal number of $\\mathtt{0}$'s and $\\mathtt{1}$'s}\\}$ is not regular."
   ]
  },
  {
   "attachments": {
    "image.png": {
     "image/png": "[encoded data removed]"
    }
   },
   "cell_type": "markdown",
   "metadata": {},
   "source": [
    "# Thursday\n",
    "\n",
    "<div class=\"alert alert-info\"><p><b>Reread</b> Section 1.4, paying closer attention this time to pages 80-82.</p>\n",
    "    <p><b>Watch</b> <a href=\"https://notredame.hosted.panopto.com/Panopto/Pages/Viewer.aspx?id=7835d492-b277-4094-bbd9-ac06015a76db\">W4E3: Proving Nonregularity Using Closure Properties</a></p></div>\n",
    "\n",
    "Today we look at non-regularity proofs that use closure properties. We've learned a number of closure properties: union, concatenation, Kleene star, reversal. But the two closure properties that are especially useful are intersection and string homomorphism.\n",
    "\n",
    "## Intersection\n",
    "\n",
    "Example 1.74 mentions an alternative proof strategy that involves the fact that regular languages are closed under intersection (footnote 3 of this chapter). This is an extremely common technique that lets you filter out strings that you don't want to deal with.\n",
    "\n",
    "To show: Prove that $C = \\{w \\in \\{\\mathtt{0}, \\mathtt{1}\\}^\\ast \\mid \\text{$w$ contains an equal number of $\\mathtt{0}$'s and $\\mathtt{1}$'s}\\}$ is not regular.\n",
    "\n",
    "Proof: Suppose that $C$ is regular. Because regular languages are closed under intersection, we can form the language $C \\cap \\texttt{0}^\\ast \\texttt{1}^\\ast$, which must also be regular. But this language is none other than $B$, which we know is not regular. This is a contradiction.\n",
    "\n",
    "As another example, let's prove that C (the programming language) is not regular. This is a big, messy language. The idea is to focus on one aspect of it, like curly braces. Suppose that C is regular. Then intersect C with the regular expression\n",
    "$$\\texttt{void main(void)}\\texttt{\\{}^\\ast\\texttt{\\}}^\\ast$$\n",
    "The only valid C programs that match this are of the form\n",
    "$$\\texttt{void main(void)}\\texttt{\\{}^n\\texttt{\\}}^n$$\n",
    "for $n \\geq 1$. So now our job is to show that this simpler language (call it $C'$) is not regular. This is much easier -- but the $\\texttt{void main(void)}$ is a nuisance. The proof goes like this:\n",
    "\n",
    "The pumping lemma for regular languages says that there is a $p \\geq 1$ such that any $s$ where $|s| \\geq p$ can be written as $s = xyz$ where $|y| > 0$, $|xy| \\leq p$ and $xy^iz \\in C'$ for all $i$. \n",
    "Let $$s = \\texttt{void main(void)}\\texttt{\\{}^p\\texttt{\\}}^p$$\n",
    "Note that because $|xy| \\leq p$, $y$ cannot contain any $\\texttt{\\}}$ symbols.\n",
    "- Case 1: $y$ consists of only $\\{$ symbols. Then let $i=2$. But $xyyz$ must have more $\\{$ symbols than $\\}$ symbols, so it does not belong to $C'$, which is a contradiction.\n",
    "- Case 2: $y$ contains something other than $\\{$. Then let $i=0$. But $xz$ does not belong to $C'$ because -- because obviously, right?\n",
    "\n",
    "You might be able to get away with that Case 2, but a much cleaner way of dealing with this is to use the next closure property.\n",
    "\n",
    "## String homomorphisms\n",
    "\n",
    "Another commonly used property is closure under string homomorphisms (Exercise 1.66). Remember that we defined a string homomorphism in HW1 to be a mapping from strings to strings with the properties\n",
    "\\begin{align*}\n",
    "f(\\varepsilon) &= \\epsilon \\\\\n",
    "f(uv) &= f(u) f(v).\n",
    "\\end{align*}\n",
    "and we showed that we can think of a string homomorphism in terms of what it does to individual symbols. For example, if $\\Sigma = \\{\\mathtt{a}, \\mathtt{b}\\}$ we can define a string homomorphism $f(\\mathtt{a}) = \\mathtt{a}, f(\\mathtt{b}) = \\varepsilon$. Extended to strings, what $f$ does is to delete all the $\\mathtt{b}$'s from a string. \n",
    "\n",
    "Regular languages are closed under string homomorphisms. That is, if $L$ is a regular language and $f$ is a string homomorphism, then\n",
    "$$f(L) = \\{f(w) \\mid w \\in L\\}$$\n",
    "is also a regular language.\n",
    "\n",
    "Proof: Let $\\alpha$ be a regular expression that describes $L$. Extend $f$ to regular expressions as follows:\n",
    "\\begin{align*}\n",
    "f(\\emptyset) &= \\emptyset \\\\\n",
    "f(\\alpha \\cup \\beta) &= f(\\alpha) \\cup f(\\beta) \\\\\n",
    "f(\\alpha^\\ast) &= f(\\alpha)^\\ast\n",
    "\\end{align*}\n",
    "Then $f(\\alpha)$ is a regular expression that describes $f(L)$.\n",
    "\n",
    "Another proof: Let $N$ be a NFA that recognizes $L$. We construct a new NFA $N'$ as follows. For each transition $q \\xrightarrow{a} r$, let $k = |f(a)|$. If $k=0$, replace this transition with $q \\xrightarrow{\\varepsilon} r$. Otherwise, replace it with a chain of $k$ transitions:\n",
    "![image.png](attachment:image.png)\n",
    "where $t_1, \\ldots, t_{k-1}$ are fresh states that aren't used anywhere else. Then $N'$ recognizes $f(L)$.\n",
    "\n",
    "This closure property lets you filter out symbols that you don't want to deal with. It also lets you conflate symbols that you don't need to distinguish. For our C-language example above, we could prove that $C'$ is not regular as follows:\n",
    "\n",
    "Define a string homomorphism\n",
    "\\begin{align*}\n",
    "f(\\texttt{\\{}) &= \\texttt{0} \\\\\n",
    "f(\\texttt{\\}}) &= \\texttt{1} \\\\\n",
    "f(a) &= \\varepsilon \\qquad a \\not\\in \\{ \\texttt{0}, \\texttt{1} \\}\n",
    "\\end{align*}\n",
    "\n",
    "Then $f(C') = \\{ \\texttt{0}^n \\texttt{1}^n \\mid n \\geq 1 \\}$. But this is just $B$ (or close enough), which we know is not regular. This is a contradiction."
   ]
  }
 ],
 "metadata": {
  "kernelspec": {
   "display_name": "Python 3",
   "language": "python",
   "name": "python3"
  },
  "language_info": {
   "codemirror_mode": {
    "name": "ipython",
    "version": 3
   },
   "file_extension": ".py",
   "mimetype": "text/x-python",
   "name": "python",
   "nbconvert_exporter": "python",
   "pygments_lexer": "ipython3",
   "version": "3.8.1"
  }
 },
 "nbformat": 4,
 "nbformat_minor": 4
}
